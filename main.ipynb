{
 "cells": [
  {
   "cell_type": "code",
   "execution_count": 23,
   "id": "33bec742",
   "metadata": {},
   "outputs": [
    {
     "ename": "ModuleNotFoundError",
     "evalue": "No module named 'group_by_measure'",
     "output_type": "error",
     "traceback": [
      "\u001b[1;31m---------------------------------------------------------------------------\u001b[0m",
      "\u001b[1;31mModuleNotFoundError\u001b[0m                       Traceback (most recent call last)",
      "Cell \u001b[1;32mIn[23], line 6\u001b[0m\n\u001b[0;32m      3\u001b[0m sys\u001b[38;5;241m.\u001b[39mpath\u001b[38;5;241m.\u001b[39mappend(\u001b[38;5;124m\"\u001b[39m\u001b[38;5;124mE:/data_pipeline/group_by_measure\u001b[39m\u001b[38;5;124m\"\u001b[39m)\n\u001b[0;32m      5\u001b[0m \u001b[38;5;66;03m# Now you should be able to import the module\u001b[39;00m\n\u001b[1;32m----> 6\u001b[0m \u001b[38;5;28;01mimport\u001b[39;00m \u001b[38;5;21;01mgroup_by_measure\u001b[39;00m\n\u001b[0;32m      8\u001b[0m \u001b[38;5;28;01mimport\u001b[39;00m \u001b[38;5;21;01mgroup_by_measure\u001b[39;00m\n\u001b[0;32m      9\u001b[0m \u001b[38;5;28;01mfrom\u001b[39;00m \u001b[38;5;21;01mjoin_datasets\u001b[39;00m \u001b[38;5;28;01mimport\u001b[39;00m join_datasets\n",
      "\u001b[1;31mModuleNotFoundError\u001b[0m: No module named 'group_by_measure'"
     ]
    }
   ],
   "source": [
    "from pyspark.sql import SparkSession\n",
    "import sys\n",
    "sys.path.append(\"E:/data_pipeline/group_by_measure\")\n",
    "\n",
    "# Now you should be able to import the module\n",
    "import group_by_measure\n",
    "\n",
    "import group_by_measure\n",
    "from join_datasets import join_datasets\n",
    "from s3_connector import S3Connector\n",
    "\n",
    "def main():\n",
    "    spark = SparkSession.builder.appName(\"DataPipeline\").getOrCreate()\n",
    "    s3_connector = S3Connector(spark)\n",
    "\n",
    "    # Read from source\n",
    "    source_df = s3_connector.read(\"s3://test_data/data1\", \"parquet\")\n",
    "\n",
    "    # Apply transformations\n",
    "    transformed_df_1 = group_by_measure(source_df, \"category\")\n",
    "    transformed_df_2 = join_datasets(transformed_df_1, s3_connector.read(\"s3://test_data2/data_store1\", \"json\"), \"common_id\")\n",
    "\n",
    "    # Write to sink\n",
    "    s3_connector.write(transformed_df_2, \"s3://your-bucket/output_data\", \"parquet\", compression=\"gzip\")\n",
    "\n",
    "if __name__ == \"__main__\":\n",
    "    main()\n"
   ]
  },
  {
   "cell_type": "code",
   "execution_count": 5,
   "id": "98eed0a1",
   "metadata": {},
   "outputs": [
    {
     "data": {
      "text/plain": [
       "'E:\\\\data_pipeline'"
      ]
     },
     "execution_count": 5,
     "metadata": {},
     "output_type": "execute_result"
    }
   ],
   "source": [
    "import os\n",
    "import os\n",
    "os.getcwd()\n"
   ]
  },
  {
   "cell_type": "code",
   "execution_count": 10,
   "id": "f1120f1a",
   "metadata": {},
   "outputs": [
    {
     "name": "stdout",
     "output_type": "stream",
     "text": [
      "<module 'sys' (built-in)>\n"
     ]
    }
   ],
   "source": [
    "import sys\n",
    "sys.path.append('E:/data_pipeline')\n",
    "\n",
    "print(sys)\n"
   ]
  },
  {
   "cell_type": "code",
   "execution_count": 11,
   "id": "68969ee5",
   "metadata": {},
   "outputs": [
    {
     "data": {
      "text/plain": [
       "['.ipynb_checkpoints',\n",
       " 'group_by_measure.ipynb',\n",
       " 'join_datasets.ipynb',\n",
       " 'main.ipynb',\n",
       " 's3_connector.ipynb']"
      ]
     },
     "execution_count": 11,
     "metadata": {},
     "output_type": "execute_result"
    }
   ],
   "source": [
    "import os\n",
    "os.listdir()\n"
   ]
  },
  {
   "cell_type": "code",
   "execution_count": 12,
   "id": "6080730d",
   "metadata": {},
   "outputs": [
    {
     "name": "stdout",
     "output_type": "stream",
     "text": [
      "Requirement already satisfied: pyspark in c:\\users\\win10\\anaconda3\\lib\\site-packages (3.5.0)\n",
      "Requirement already satisfied: py4j==0.10.9.7 in c:\\users\\win10\\anaconda3\\lib\\site-packages (from pyspark) (0.10.9.7)\n"
     ]
    },
    {
     "name": "stderr",
     "output_type": "stream",
     "text": [
      "WARNING: Ignoring invalid distribution -orch (c:\\users\\win10\\anaconda3\\lib\\site-packages)\n",
      "WARNING: Ignoring invalid distribution -orch (c:\\users\\win10\\anaconda3\\lib\\site-packages)\n",
      "WARNING: Ignoring invalid distribution -orch (c:\\users\\win10\\anaconda3\\lib\\site-packages)\n",
      "WARNING: Ignoring invalid distribution -orch (c:\\users\\win10\\anaconda3\\lib\\site-packages)\n",
      "WARNING: Ignoring invalid distribution -orch (c:\\users\\win10\\anaconda3\\lib\\site-packages)\n",
      "WARNING: Ignoring invalid distribution -orch (c:\\users\\win10\\anaconda3\\lib\\site-packages)\n"
     ]
    }
   ],
   "source": [
    "%run group_by_measure.ipynb\n",
    "%run join_datasets.ipynb\n",
    "%run s3_connector.ipynb\n"
   ]
  },
  {
   "cell_type": "code",
   "execution_count": null,
   "id": "05ed6369",
   "metadata": {},
   "outputs": [],
   "source": [
    "# %load s3_connector.ipynb\n",
    "{\n",
    " \"cells\": [\n",
    "  {\n",
    "   \"cell_type\": \"code\",\n",
    "   \"execution_count\": 1,\n",
    "   \"id\": \"ebcf4783\",\n",
    "   \"metadata\": {},\n",
    "   \"outputs\": [],\n",
    "   \"source\": [\n",
    "    \"from pyspark.sql import SparkSession, DataFrame\\n\",\n",
    "    \"\\n\",\n",
    "    \"class S3Connector:\\n\",\n",
    "    \"    def __init__(self, spark: SparkSession):\\n\",\n",
    "    \"        self.spark = spark\\n\",\n",
    "    \"\\n\",\n",
    "    \"    def read(self, path: str, format: str) -> DataFrame:\\n\",\n",
    "    \"        return self.spark.read.format(format).load(path)\\n\",\n",
    "    \"\\n\",\n",
    "    \"    def write(self, df: DataFrame, path: str, format: str, compression: str = None) -> None:\\n\",\n",
    "    \"        df.write.mode(\\\"overwrite\\\").format(format).option(\\\"compression\\\", compression).save(path)\"\n",
    "   ]\n",
    "  },\n",
    "  {\n",
    "   \"cell_type\": \"code\",\n",
    "   \"execution_count\": null,\n",
    "   \"id\": \"d71c8a9d\",\n",
    "   \"metadata\": {},\n",
    "   \"outputs\": [],\n",
    "   \"source\": []\n",
    "  }\n",
    " ],\n",
    " \"metadata\": {\n",
    "  \"kernelspec\": {\n",
    "   \"display_name\": \"Python 3 (ipykernel)\",\n",
    "   \"language\": \"python\",\n",
    "   \"name\": \"python3\"\n",
    "  },\n",
    "  \"language_info\": {\n",
    "   \"codemirror_mode\": {\n",
    "    \"name\": \"ipython\",\n",
    "    \"version\": 3\n",
    "   },\n",
    "   \"file_extension\": \".py\",\n",
    "   \"mimetype\": \"text/x-python\",\n",
    "   \"name\": \"python\",\n",
    "   \"nbconvert_exporter\": \"python\",\n",
    "   \"pygments_lexer\": \"ipython3\",\n",
    "   \"version\": \"3.10.9\"\n",
    "  }\n",
    " },\n",
    " \"nbformat\": 4,\n",
    " \"nbformat_minor\": 5\n",
    "}\n"
   ]
  },
  {
   "cell_type": "code",
   "execution_count": 19,
   "id": "455d27df",
   "metadata": {},
   "outputs": [
    {
     "ename": "ModuleNotFoundError",
     "evalue": "No module named 'group_by_measure'",
     "output_type": "error",
     "traceback": [
      "\u001b[1;31m---------------------------------------------------------------------------\u001b[0m",
      "\u001b[1;31mModuleNotFoundError\u001b[0m                       Traceback (most recent call last)",
      "Cell \u001b[1;32mIn[19], line 1\u001b[0m\n\u001b[1;32m----> 1\u001b[0m \u001b[38;5;28;01mimport\u001b[39;00m \u001b[38;5;21;01mgroup_by_measure\u001b[39;00m\n",
      "\u001b[1;31mModuleNotFoundError\u001b[0m: No module named 'group_by_measure'"
     ]
    }
   ],
   "source": [
    "\n",
    "\n",
    "import group_by_measure\n",
    "\n",
    "# Now you can use functions or classes from the imported module\n"
   ]
  },
  {
   "cell_type": "code",
   "execution_count": 20,
   "id": "4711428c",
   "metadata": {},
   "outputs": [
    {
     "ename": "ModuleNotFoundError",
     "evalue": "No module named 'join_datasets'",
     "output_type": "error",
     "traceback": [
      "\u001b[1;31m---------------------------------------------------------------------------\u001b[0m",
      "\u001b[1;31mModuleNotFoundError\u001b[0m                       Traceback (most recent call last)",
      "Cell \u001b[1;32mIn[20], line 1\u001b[0m\n\u001b[1;32m----> 1\u001b[0m \u001b[38;5;28;01mimport\u001b[39;00m \u001b[38;5;21;01mjoin_datasets\u001b[39;00m\n",
      "\u001b[1;31mModuleNotFoundError\u001b[0m: No module named 'join_datasets'"
     ]
    }
   ],
   "source": [
    "import join_datasets"
   ]
  },
  {
   "cell_type": "code",
   "execution_count": 24,
   "id": "bd82e7c9",
   "metadata": {},
   "outputs": [],
   "source": [
    "from pyspark.sql import DataFrame\n",
    "\n",
    "def join_datasets(df1: DataFrame, df2: DataFrame, join_column: str) -> DataFrame:\n",
    "    return df1.join(df2, df1[join_column] == df2[join_column])"
   ]
  },
  {
   "cell_type": "code",
   "execution_count": null,
   "id": "dff58b2a",
   "metadata": {},
   "outputs": [],
   "source": []
  }
 ],
 "metadata": {
  "kernelspec": {
   "display_name": "Python 3 (ipykernel)",
   "language": "python",
   "name": "python3"
  },
  "language_info": {
   "codemirror_mode": {
    "name": "ipython",
    "version": 3
   },
   "file_extension": ".py",
   "mimetype": "text/x-python",
   "name": "python",
   "nbconvert_exporter": "python",
   "pygments_lexer": "ipython3",
   "version": "3.10.9"
  }
 },
 "nbformat": 4,
 "nbformat_minor": 5
}
