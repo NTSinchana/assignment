{
 "cells": [
  {
   "cell_type": "code",
   "execution_count": 1,
   "id": "9a1ee520",
   "metadata": {},
   "outputs": [
    {
     "ename": "ModuleNotFoundError",
     "evalue": "No module named 'transformations'",
     "output_type": "error",
     "traceback": [
      "\u001b[1;31m---------------------------------------------------------------------------\u001b[0m",
      "\u001b[1;31mModuleNotFoundError\u001b[0m                       Traceback (most recent call last)",
      "Cell \u001b[1;32mIn[1], line 2\u001b[0m\n\u001b[0;32m      1\u001b[0m \u001b[38;5;28;01mfrom\u001b[39;00m \u001b[38;5;21;01mpyspark\u001b[39;00m\u001b[38;5;21;01m.\u001b[39;00m\u001b[38;5;21;01msql\u001b[39;00m \u001b[38;5;28;01mimport\u001b[39;00m SparkSession\n\u001b[1;32m----> 2\u001b[0m \u001b[38;5;28;01mfrom\u001b[39;00m \u001b[38;5;21;01mtransformations\u001b[39;00m\u001b[38;5;21;01m.\u001b[39;00m\u001b[38;5;21;01mgroup_by_measure\u001b[39;00m \u001b[38;5;28;01mimport\u001b[39;00m group_by_measure\n\u001b[0;32m      3\u001b[0m \u001b[38;5;28;01mfrom\u001b[39;00m \u001b[38;5;21;01mtransformations\u001b[39;00m\u001b[38;5;21;01m.\u001b[39;00m\u001b[38;5;21;01mjoin_datasets\u001b[39;00m \u001b[38;5;28;01mimport\u001b[39;00m join_datasets\n\u001b[0;32m      5\u001b[0m \u001b[38;5;28;01mdef\u001b[39;00m \u001b[38;5;21mtest_group_by_measure\u001b[39m():\n",
      "\u001b[1;31mModuleNotFoundError\u001b[0m: No module named 'transformations'"
     ]
    }
   ],
   "source": [
    "from pyspark.sql import SparkSession\n",
    "from transformations.group_by_measure import group_by_measure\n",
    "from transformations.join_datasets import join_datasets\n",
    "\n",
    "def test_group_by_measure():\n",
    "    spark = SparkSession.builder.appName(\"test\").getOrCreate()\n",
    "    data = [(\"A\", 1), (\"B\", 2), (\"A\", 3)]\n",
    "    df = spark.createDataFrame(data, [\"category\", \"value\"])\n",
    "\n",
    "    result_df = group_by_measure(df, \"category\")\n",
    "\n",
    "    assert result_df.count() == 2\n",
    "\n",
    "def test_join_datasets():\n",
    "    spark = SparkSession.builder.appName(\"test\").getOrCreate()\n",
    "    data1 = [(\"A\", 1), (\"B\", 2), (\"A\", 3)]\n",
    "    data2 = [(\"A\", \"Info1\"), (\"B\", \"Info2\")]\n",
    "\n",
    "    df1 = spark.createDataFrame(data1, [\"category\", \"value\"])\n",
    "    df2 = spark.createDataFrame(data2, [\"category\", \"info\"])\n",
    "\n",
    "    result_df = join_datasets(df1, df2, \"category\")\n",
    "\n",
    "    assert result_df.count() == 3\n"
   ]
  },
  {
   "cell_type": "code",
   "execution_count": null,
   "id": "56ae1f44",
   "metadata": {},
   "outputs": [],
   "source": []
  }
 ],
 "metadata": {
  "kernelspec": {
   "display_name": "Python 3 (ipykernel)",
   "language": "python",
   "name": "python3"
  },
  "language_info": {
   "codemirror_mode": {
    "name": "ipython",
    "version": 3
   },
   "file_extension": ".py",
   "mimetype": "text/x-python",
   "name": "python",
   "nbconvert_exporter": "python",
   "pygments_lexer": "ipython3",
   "version": "3.10.9"
  }
 },
 "nbformat": 4,
 "nbformat_minor": 5
}
