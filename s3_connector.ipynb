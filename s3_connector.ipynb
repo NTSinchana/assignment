{
 "cells": [
  {
   "cell_type": "code",
   "execution_count": 1,
   "id": "ebcf4783",
   "metadata": {},
   "outputs": [],
   "source": [
    "from pyspark.sql import SparkSession, DataFrame\n",
    "\n",
    "class S3Connector:\n",
    "    def __init__(self, spark: SparkSession):\n",
    "        self.spark = spark\n",
    "\n",
    "    def read(self, path: str, format: str) -> DataFrame:\n",
    "        return self.spark.read.format(format).load(path)\n",
    "\n",
    "    def write(self, df: DataFrame, path: str, format: str, compression: str = None) -> None:\n",
    "        df.write.mode(\"overwrite\").format(format).option(\"compression\", compression).save(path)"
   ]
  },
  {
   "cell_type": "code",
   "execution_count": null,
   "id": "d71c8a9d",
   "metadata": {},
   "outputs": [],
   "source": []
  }
 ],
 "metadata": {
  "kernelspec": {
   "display_name": "Python 3 (ipykernel)",
   "language": "python",
   "name": "python3"
  },
  "language_info": {
   "codemirror_mode": {
    "name": "ipython",
    "version": 3
   },
   "file_extension": ".py",
   "mimetype": "text/x-python",
   "name": "python",
   "nbconvert_exporter": "python",
   "pygments_lexer": "ipython3",
   "version": "3.10.9"
  }
 },
 "nbformat": 4,
 "nbformat_minor": 5
}
